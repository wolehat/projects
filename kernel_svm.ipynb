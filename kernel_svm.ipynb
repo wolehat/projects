{
  "nbformat": 4,
  "nbformat_minor": 0,
  "metadata": {
    "colab": {
      "name": "kernel_svm.ipynb",
      "provenance": [],
      "collapsed_sections": [],
      "toc_visible": true,
      "machine_shape": "hm"
    },
    "kernelspec": {
      "display_name": "Python 3",
      "name": "python3"
    }
  },
  "cells": [
    {
      "cell_type": "markdown",
      "metadata": {
        "id": "0MRC0e0KhQ0S"
      },
      "source": [
        "# Kernel SVM"
      ]
    },
    {
      "cell_type": "markdown",
      "metadata": {
        "id": "LWd1UlMnhT2s"
      },
      "source": [
        "## Importing the libraries"
      ]
    },
    {
      "cell_type": "code",
      "metadata": {
        "id": "YvGPUQaHhXfL"
      },
      "source": [
        "import numpy as np\n",
        "import matplotlib.pyplot as plt\n",
        "import pandas as pd\n",
        "import seaborn as sns"
      ],
      "execution_count": 24,
      "outputs": []
    },
    {
      "cell_type": "markdown",
      "metadata": {
        "id": "K1VMqkGvhc3-"
      },
      "source": [
        "## Importing the dataset"
      ]
    },
    {
      "cell_type": "code",
      "metadata": {
        "id": "guIgqRs8MgLS"
      },
      "source": [
        "dataset = pd.read_csv('Social_Network_Ads.csv')"
      ],
      "execution_count": 25,
      "outputs": []
    },
    {
      "cell_type": "code",
      "metadata": {
        "colab": {
          "base_uri": "https://localhost:8080/",
          "height": 419
        },
        "id": "u-kHEabCMkLC",
        "outputId": "292bda8c-e5eb-455c-95bb-d10e949755fd"
      },
      "source": [
        "dataset"
      ],
      "execution_count": 26,
      "outputs": [
        {
          "output_type": "execute_result",
          "data": {
            "text/html": [
              "<div>\n",
              "<style scoped>\n",
              "    .dataframe tbody tr th:only-of-type {\n",
              "        vertical-align: middle;\n",
              "    }\n",
              "\n",
              "    .dataframe tbody tr th {\n",
              "        vertical-align: top;\n",
              "    }\n",
              "\n",
              "    .dataframe thead th {\n",
              "        text-align: right;\n",
              "    }\n",
              "</style>\n",
              "<table border=\"1\" class=\"dataframe\">\n",
              "  <thead>\n",
              "    <tr style=\"text-align: right;\">\n",
              "      <th></th>\n",
              "      <th>Age</th>\n",
              "      <th>EstimatedSalary</th>\n",
              "      <th>Purchased</th>\n",
              "    </tr>\n",
              "  </thead>\n",
              "  <tbody>\n",
              "    <tr>\n",
              "      <th>0</th>\n",
              "      <td>19</td>\n",
              "      <td>19000</td>\n",
              "      <td>0</td>\n",
              "    </tr>\n",
              "    <tr>\n",
              "      <th>1</th>\n",
              "      <td>35</td>\n",
              "      <td>20000</td>\n",
              "      <td>0</td>\n",
              "    </tr>\n",
              "    <tr>\n",
              "      <th>2</th>\n",
              "      <td>26</td>\n",
              "      <td>43000</td>\n",
              "      <td>0</td>\n",
              "    </tr>\n",
              "    <tr>\n",
              "      <th>3</th>\n",
              "      <td>27</td>\n",
              "      <td>57000</td>\n",
              "      <td>0</td>\n",
              "    </tr>\n",
              "    <tr>\n",
              "      <th>4</th>\n",
              "      <td>19</td>\n",
              "      <td>76000</td>\n",
              "      <td>0</td>\n",
              "    </tr>\n",
              "    <tr>\n",
              "      <th>...</th>\n",
              "      <td>...</td>\n",
              "      <td>...</td>\n",
              "      <td>...</td>\n",
              "    </tr>\n",
              "    <tr>\n",
              "      <th>395</th>\n",
              "      <td>46</td>\n",
              "      <td>41000</td>\n",
              "      <td>1</td>\n",
              "    </tr>\n",
              "    <tr>\n",
              "      <th>396</th>\n",
              "      <td>51</td>\n",
              "      <td>23000</td>\n",
              "      <td>1</td>\n",
              "    </tr>\n",
              "    <tr>\n",
              "      <th>397</th>\n",
              "      <td>50</td>\n",
              "      <td>20000</td>\n",
              "      <td>1</td>\n",
              "    </tr>\n",
              "    <tr>\n",
              "      <th>398</th>\n",
              "      <td>36</td>\n",
              "      <td>33000</td>\n",
              "      <td>0</td>\n",
              "    </tr>\n",
              "    <tr>\n",
              "      <th>399</th>\n",
              "      <td>49</td>\n",
              "      <td>36000</td>\n",
              "      <td>1</td>\n",
              "    </tr>\n",
              "  </tbody>\n",
              "</table>\n",
              "<p>400 rows × 3 columns</p>\n",
              "</div>"
            ],
            "text/plain": [
              "     Age  EstimatedSalary  Purchased\n",
              "0     19            19000          0\n",
              "1     35            20000          0\n",
              "2     26            43000          0\n",
              "3     27            57000          0\n",
              "4     19            76000          0\n",
              "..   ...              ...        ...\n",
              "395   46            41000          1\n",
              "396   51            23000          1\n",
              "397   50            20000          1\n",
              "398   36            33000          0\n",
              "399   49            36000          1\n",
              "\n",
              "[400 rows x 3 columns]"
            ]
          },
          "metadata": {
            "tags": []
          },
          "execution_count": 26
        }
      ]
    },
    {
      "cell_type": "code",
      "metadata": {
        "colab": {
          "base_uri": "https://localhost:8080/",
          "height": 405
        },
        "id": "xncC5NTOMpqR",
        "outputId": "04702fc4-a1e2-4a54-ddec-c7f103cdddaa"
      },
      "source": [
        "plt.figure(figsize=[10,6])\r\n",
        "sns.scatterplot(x= 'Age', y = 'EstimatedSalary', data= dataset, hue = 'Purchased')"
      ],
      "execution_count": 27,
      "outputs": [
        {
          "output_type": "execute_result",
          "data": {
            "text/plain": [
              "<matplotlib.axes._subplots.AxesSubplot at 0x7f9366aa2b50>"
            ]
          },
          "metadata": {
            "tags": []
          },
          "execution_count": 27
        },
        {
          "output_type": "display_data",
          "data": {
            "image/png": "[encoded data removed]",
            "text/plain": [
              "<Figure size 720x432 with 1 Axes>"
            ]
          },
          "metadata": {
            "tags": [],
            "needs_background": "light"
          }
        }
      ]
    },
    {
      "cell_type": "code",
      "metadata": {
        "colab": {
          "base_uri": "https://localhost:8080/",
          "height": 142
        },
        "id": "n3Pz9eUxNZu2",
        "outputId": "c0bb2eae-940d-40d8-bd59-2ca38073faea"
      },
      "source": [
        "dataset.corr()"
      ],
      "execution_count": 28,
      "outputs": [
        {
          "output_type": "execute_result",
          "data": {
            "text/html": [
              "<div>\n",
              "<style scoped>\n",
              "    .dataframe tbody tr th:only-of-type {\n",
              "        vertical-align: middle;\n",
              "    }\n",
              "\n",
              "    .dataframe tbody tr th {\n",
              "        vertical-align: top;\n",
              "    }\n",
              "\n",
              "    .dataframe thead th {\n",
              "        text-align: right;\n",
              "    }\n",
              "</style>\n",
              "<table border=\"1\" class=\"dataframe\">\n",
              "  <thead>\n",
              "    <tr style=\"text-align: right;\">\n",
              "      <th></th>\n",
              "      <th>Age</th>\n",
              "      <th>EstimatedSalary</th>\n",
              "      <th>Purchased</th>\n",
              "    </tr>\n",
              "  </thead>\n",
              "  <tbody>\n",
              "    <tr>\n",
              "      <th>Age</th>\n",
              "      <td>1.000000</td>\n",
              "      <td>0.155238</td>\n",
              "      <td>0.622454</td>\n",
              "    </tr>\n",
              "    <tr>\n",
              "      <th>EstimatedSalary</th>\n",
              "      <td>0.155238</td>\n",
              "      <td>1.000000</td>\n",
              "      <td>0.362083</td>\n",
              "    </tr>\n",
              "    <tr>\n",
              "      <th>Purchased</th>\n",
              "      <td>0.622454</td>\n",
              "      <td>0.362083</td>\n",
              "      <td>1.000000</td>\n",
              "    </tr>\n",
              "  </tbody>\n",
              "</table>\n",
              "</div>"
            ],
            "text/plain": [
              "                      Age  EstimatedSalary  Purchased\n",
              "Age              1.000000         0.155238   0.622454\n",
              "EstimatedSalary  0.155238         1.000000   0.362083\n",
              "Purchased        0.622454         0.362083   1.000000"
            ]
          },
          "metadata": {
            "tags": []
          },
          "execution_count": 28
        }
      ]
    },
    {
      "cell_type": "code",
      "metadata": {
        "colab": {
          "base_uri": "https://localhost:8080/",
          "height": 286
        },
        "id": "1i4WFFEtN80S",
        "outputId": "6ca5d9b7-5841-4f1c-cb9f-b4d136c08568"
      },
      "source": [
        "sns.heatmap(dataset.corr(), annot=True)"
      ],
      "execution_count": 29,
      "outputs": [
        {
          "output_type": "execute_result",
          "data": {
            "text/plain": [
              "<matplotlib.axes._subplots.AxesSubplot at 0x7f9366a226d0>"
            ]
          },
          "metadata": {
            "tags": []
          },
          "execution_count": 29
        },
        {
          "output_type": "display_data",
          "data": {
            "image/png": "[encoded data removed]",
            "text/plain": [
              "<Figure size 432x288 with 2 Axes>"
            ]
          },
          "metadata": {
            "tags": [],
            "needs_background": "light"
          }
        }
      ]
    },
    {
      "cell_type": "code",
      "metadata": {
        "colab": {
          "base_uri": "https://localhost:8080/",
          "height": 296
        },
        "id": "14c_IxGgOHRD",
        "outputId": "0c3e12ec-d3ac-4e4a-ef35-1d08585415e4"
      },
      "source": [
        "sns.scatterplot(x= 'Age', y= 'Purchased', data=dataset)"
      ],
      "execution_count": 30,
      "outputs": [
        {
          "output_type": "execute_result",
          "data": {
            "text/plain": [
              "<matplotlib.axes._subplots.AxesSubplot at 0x7f9366a2c490>"
            ]
          },
          "metadata": {
            "tags": []
          },
          "execution_count": 30
        },
        {
          "output_type": "display_data",
          "data": {
            "image/png": "[encoded data removed]",
            "text/plain": [
              "<Figure size 432x288 with 1 Axes>"
            ]
          },
          "metadata": {
            "tags": [],
            "needs_background": "light"
          }
        }
      ]
    },
    {
      "cell_type": "code",
      "metadata": {
        "id": "M52QDmyzhh9s"
      },
      "source": [
        "\n",
        "X = dataset.iloc[:, :-1].values\n",
        "y = dataset.iloc[:, -1].values"
      ],
      "execution_count": 31,
      "outputs": []
    },
    {
      "cell_type": "markdown",
      "metadata": {
        "id": "YvxIPVyMhmKp"
      },
      "source": [
        "## Splitting the dataset into the Training set and Test set"
      ]
    },
    {
      "cell_type": "code",
      "metadata": {
        "id": "AVzJWAXIhxoC"
      },
      "source": [
        "from sklearn.model_selection import train_test_split\n",
        "X_train, X_test, y_train, y_test = train_test_split(X, y, test_size = 0.25, random_state = 0)"
      ],
      "execution_count": 32,
      "outputs": []
    },
    {
      "cell_type": "code",
      "metadata": {
        "colab": {
          "base_uri": "https://localhost:8080/"
        },
        "id": "P3nS3-6r1i2B",
        "outputId": "c7330fa0-88b2-410d-a732-78d11b53b639"
      },
      "source": [
        "print(X_train)"
      ],
      "execution_count": 33,
      "outputs": [
        {
          "output_type": "stream",
          "text": [
            "[[    44  39000]\n",
            " [    32 120000]\n",
            " [    38  50000]\n",
            " [    32 135000]\n",
            " [    52  21000]\n",
            " [    53 104000]\n",
            " [    39  42000]\n",
            " [    38  61000]\n",
            " [    36  50000]\n",
            " [    36  63000]\n",
            " [    35  25000]\n",
            " [    35  50000]\n",
            " [    42  73000]\n",
            " [    47  49000]\n",
            " [    59  29000]\n",
            " [    49  65000]\n",
            " [    45 131000]\n",
            " [    31  89000]\n",
            " [    46  82000]\n",
            " [    47  51000]\n",
            " [    26  15000]\n",
            " [    60 102000]\n",
            " [    38 112000]\n",
            " [    40 107000]\n",
            " [    42  53000]\n",
            " [    35  59000]\n",
            " [    48  41000]\n",
            " [    48 134000]\n",
            " [    38 113000]\n",
            " [    29 148000]\n",
            " [    26  15000]\n",
            " [    60  42000]\n",
            " [    24  19000]\n",
            " [    42 149000]\n",
            " [    46  96000]\n",
            " [    28  59000]\n",
            " [    39  96000]\n",
            " [    28  89000]\n",
            " [    41  72000]\n",
            " [    45  26000]\n",
            " [    33  69000]\n",
            " [    20  82000]\n",
            " [    31  74000]\n",
            " [    42  80000]\n",
            " [    35  72000]\n",
            " [    33 149000]\n",
            " [    40  71000]\n",
            " [    51 146000]\n",
            " [    46  79000]\n",
            " [    35  75000]\n",
            " [    38  51000]\n",
            " [    36  75000]\n",
            " [    37  78000]\n",
            " [    38  61000]\n",
            " [    60 108000]\n",
            " [    20  82000]\n",
            " [    57  74000]\n",
            " [    42  65000]\n",
            " [    26  80000]\n",
            " [    46 117000]\n",
            " [    35  61000]\n",
            " [    21  68000]\n",
            " [    28  44000]\n",
            " [    41  87000]\n",
            " [    37  33000]\n",
            " [    27  90000]\n",
            " [    39  42000]\n",
            " [    28 123000]\n",
            " [    31 118000]\n",
            " [    25  87000]\n",
            " [    35  71000]\n",
            " [    37  70000]\n",
            " [    35  39000]\n",
            " [    47  23000]\n",
            " [    35 147000]\n",
            " [    48 138000]\n",
            " [    26  86000]\n",
            " [    25  79000]\n",
            " [    52 138000]\n",
            " [    51  23000]\n",
            " [    35  60000]\n",
            " [    33 113000]\n",
            " [    30 107000]\n",
            " [    48  33000]\n",
            " [    41  80000]\n",
            " [    48  96000]\n",
            " [    31  18000]\n",
            " [    31  71000]\n",
            " [    43 129000]\n",
            " [    59  76000]\n",
            " [    18  44000]\n",
            " [    36 118000]\n",
            " [    42  90000]\n",
            " [    47  30000]\n",
            " [    26  43000]\n",
            " [    40  78000]\n",
            " [    46  59000]\n",
            " [    59  42000]\n",
            " [    46  74000]\n",
            " [    35  91000]\n",
            " [    28  59000]\n",
            " [    40  57000]\n",
            " [    59 143000]\n",
            " [    57  26000]\n",
            " [    52  38000]\n",
            " [    47 113000]\n",
            " [    53 143000]\n",
            " [    35  27000]\n",
            " [    58 101000]\n",
            " [    45  45000]\n",
            " [    23  82000]\n",
            " [    46  23000]\n",
            " [    42  65000]\n",
            " [    28  84000]\n",
            " [    38  59000]\n",
            " [    26  84000]\n",
            " [    29  28000]\n",
            " [    37  71000]\n",
            " [    22  55000]\n",
            " [    48  35000]\n",
            " [    49  28000]\n",
            " [    38  65000]\n",
            " [    27  17000]\n",
            " [    46  28000]\n",
            " [    48 141000]\n",
            " [    26  17000]\n",
            " [    35  97000]\n",
            " [    39  59000]\n",
            " [    24  27000]\n",
            " [    32  18000]\n",
            " [    46  88000]\n",
            " [    35  58000]\n",
            " [    56  60000]\n",
            " [    47  34000]\n",
            " [    40  72000]\n",
            " [    32 100000]\n",
            " [    19  21000]\n",
            " [    25  90000]\n",
            " [    35  88000]\n",
            " [    28  32000]\n",
            " [    50  20000]\n",
            " [    40  59000]\n",
            " [    50  44000]\n",
            " [    35  72000]\n",
            " [    40 142000]\n",
            " [    46  32000]\n",
            " [    39  71000]\n",
            " [    20  74000]\n",
            " [    29  75000]\n",
            " [    31  76000]\n",
            " [    47  25000]\n",
            " [    40  61000]\n",
            " [    34 112000]\n",
            " [    38  80000]\n",
            " [    42  75000]\n",
            " [    47  47000]\n",
            " [    39  75000]\n",
            " [    19  25000]\n",
            " [    37  80000]\n",
            " [    36  60000]\n",
            " [    41  52000]\n",
            " [    36 125000]\n",
            " [    48  29000]\n",
            " [    36 126000]\n",
            " [    51 134000]\n",
            " [    27  57000]\n",
            " [    38  71000]\n",
            " [    39  61000]\n",
            " [    22  27000]\n",
            " [    33  60000]\n",
            " [    48  74000]\n",
            " [    58  23000]\n",
            " [    53  72000]\n",
            " [    32 117000]\n",
            " [    54  70000]\n",
            " [    30  80000]\n",
            " [    58  95000]\n",
            " [    26  52000]\n",
            " [    45  79000]\n",
            " [    24  55000]\n",
            " [    40  75000]\n",
            " [    33  28000]\n",
            " [    44 139000]\n",
            " [    22  18000]\n",
            " [    33  51000]\n",
            " [    43 133000]\n",
            " [    24  32000]\n",
            " [    46  22000]\n",
            " [    35  55000]\n",
            " [    54 104000]\n",
            " [    48 119000]\n",
            " [    35  53000]\n",
            " [    37 144000]\n",
            " [    23  66000]\n",
            " [    37 137000]\n",
            " [    31  58000]\n",
            " [    33  41000]\n",
            " [    45  22000]\n",
            " [    30  15000]\n",
            " [    19  19000]\n",
            " [    49  74000]\n",
            " [    39 122000]\n",
            " [    35  73000]\n",
            " [    39  71000]\n",
            " [    24  23000]\n",
            " [    41  72000]\n",
            " [    29  83000]\n",
            " [    54  26000]\n",
            " [    35  44000]\n",
            " [    37  75000]\n",
            " [    29  47000]\n",
            " [    31  68000]\n",
            " [    42  54000]\n",
            " [    30 135000]\n",
            " [    52 114000]\n",
            " [    50  36000]\n",
            " [    56 133000]\n",
            " [    29  61000]\n",
            " [    30  89000]\n",
            " [    26  16000]\n",
            " [    33  31000]\n",
            " [    41  72000]\n",
            " [    36  33000]\n",
            " [    55 125000]\n",
            " [    48 131000]\n",
            " [    41  71000]\n",
            " [    30  62000]\n",
            " [    37  72000]\n",
            " [    41  63000]\n",
            " [    58  47000]\n",
            " [    30 116000]\n",
            " [    20  49000]\n",
            " [    37  74000]\n",
            " [    41  59000]\n",
            " [    49  89000]\n",
            " [    28  79000]\n",
            " [    53  82000]\n",
            " [    40  57000]\n",
            " [    60  34000]\n",
            " [    35 108000]\n",
            " [    21  72000]\n",
            " [    38  71000]\n",
            " [    39 106000]\n",
            " [    37  57000]\n",
            " [    26  72000]\n",
            " [    35  23000]\n",
            " [    54 108000]\n",
            " [    30  17000]\n",
            " [    39 134000]\n",
            " [    29  43000]\n",
            " [    33  43000]\n",
            " [    35  38000]\n",
            " [    41  45000]\n",
            " [    41  72000]\n",
            " [    39 134000]\n",
            " [    27 137000]\n",
            " [    21  16000]\n",
            " [    26  32000]\n",
            " [    31  66000]\n",
            " [    39  73000]\n",
            " [    41  79000]\n",
            " [    47  50000]\n",
            " [    41  30000]\n",
            " [    37  93000]\n",
            " [    60  46000]\n",
            " [    25  22000]\n",
            " [    28  37000]\n",
            " [    38  55000]\n",
            " [    36  54000]\n",
            " [    20  36000]\n",
            " [    56 104000]\n",
            " [    40  57000]\n",
            " [    42 108000]\n",
            " [    20  23000]\n",
            " [    40  65000]\n",
            " [    47  20000]\n",
            " [    18  86000]\n",
            " [    35  79000]\n",
            " [    57  33000]\n",
            " [    34  72000]\n",
            " [    49  39000]\n",
            " [    27  31000]\n",
            " [    19  70000]\n",
            " [    39  79000]\n",
            " [    26  81000]\n",
            " [    25  80000]\n",
            " [    28  85000]\n",
            " [    55  39000]\n",
            " [    50  88000]\n",
            " [    49  88000]\n",
            " [    52 150000]\n",
            " [    35  65000]\n",
            " [    42  54000]\n",
            " [    34  43000]\n",
            " [    37  52000]\n",
            " [    48  30000]\n",
            " [    29  43000]\n",
            " [    36  52000]\n",
            " [    27  54000]\n",
            " [    26 118000]]\n"
          ],
          "name": "stdout"
        }
      ]
    },
    {
      "cell_type": "code",
      "metadata": {
        "colab": {
          "base_uri": "https://localhost:8080/"
        },
        "id": "8dpDLojm1mVG",
        "outputId": "76464ca5-a92a-44dd-b97a-42d62ebab72d"
      },
      "source": [
        "print(y_train)"
      ],
      "execution_count": 34,
      "outputs": [
        {
          "output_type": "stream",
          "text": [
            "[0 1 0 1 1 1 0 0 0 0 0 0 1 1 1 0 1 0 0 1 0 1 0 1 0 0 1 1 1 1 0 1 0 1 0 0 1\n",
            " 0 0 1 0 0 0 0 0 1 1 1 1 0 0 0 1 0 1 0 1 0 0 1 0 0 0 1 0 0 0 1 1 0 0 1 0 1\n",
            " 1 1 0 0 1 1 0 0 1 1 0 1 0 0 1 1 0 1 1 1 0 0 0 0 0 1 0 0 1 1 1 1 1 0 1 1 0\n",
            " 1 0 0 0 0 0 0 0 1 1 0 0 1 0 0 1 0 0 0 1 0 1 1 0 1 0 0 0 0 1 0 0 0 1 1 0 0\n",
            " 0 0 1 0 1 0 0 0 1 0 0 0 0 1 1 1 0 0 0 0 0 0 1 1 1 1 1 0 1 0 0 0 0 0 1 0 0\n",
            " 0 0 0 0 1 1 0 1 0 1 0 0 1 0 0 0 1 0 0 0 0 0 1 0 0 0 0 0 1 0 1 1 0 0 0 0 0\n",
            " 0 1 1 0 0 0 0 1 0 0 0 0 1 0 1 0 1 0 0 0 1 0 0 0 1 0 1 0 0 0 0 0 1 1 0 0 0\n",
            " 0 0 1 0 1 1 0 0 0 0 0 1 0 1 0 0 1 0 0 1 0 1 0 0 0 0 0 0 1 1 1 1 0 0 0 0 1\n",
            " 0 0 0 0]\n"
          ],
          "name": "stdout"
        }
      ]
    },
    {
      "cell_type": "code",
      "metadata": {
        "colab": {
          "base_uri": "https://localhost:8080/"
        },
        "id": "qbb7i0DH1qui",
        "outputId": "7b3301f7-5426-4a28-8086-59ec42870415"
      },
      "source": [
        "print(X_test)"
      ],
      "execution_count": 35,
      "outputs": [
        {
          "output_type": "stream",
          "text": [
            "[[    30  87000]\n",
            " [    38  50000]\n",
            " [    35  75000]\n",
            " [    30  79000]\n",
            " [    35  50000]\n",
            " [    27  20000]\n",
            " [    31  15000]\n",
            " [    36 144000]\n",
            " [    18  68000]\n",
            " [    47  43000]\n",
            " [    30  49000]\n",
            " [    28  55000]\n",
            " [    37  55000]\n",
            " [    39  77000]\n",
            " [    20  86000]\n",
            " [    32 117000]\n",
            " [    37  77000]\n",
            " [    19  85000]\n",
            " [    55 130000]\n",
            " [    35  22000]\n",
            " [    35  47000]\n",
            " [    47 144000]\n",
            " [    41  51000]\n",
            " [    47 105000]\n",
            " [    23  28000]\n",
            " [    49 141000]\n",
            " [    28  87000]\n",
            " [    29  80000]\n",
            " [    37  62000]\n",
            " [    32  86000]\n",
            " [    21  88000]\n",
            " [    37  79000]\n",
            " [    57  60000]\n",
            " [    37  53000]\n",
            " [    24  58000]\n",
            " [    18  52000]\n",
            " [    22  81000]\n",
            " [    34  43000]\n",
            " [    31  34000]\n",
            " [    49  36000]\n",
            " [    27  88000]\n",
            " [    41  52000]\n",
            " [    27  84000]\n",
            " [    35  20000]\n",
            " [    43 112000]\n",
            " [    27  58000]\n",
            " [    37  80000]\n",
            " [    52  90000]\n",
            " [    26  30000]\n",
            " [    49  86000]\n",
            " [    57 122000]\n",
            " [    34  25000]\n",
            " [    35  57000]\n",
            " [    34 115000]\n",
            " [    59  88000]\n",
            " [    45  32000]\n",
            " [    29  83000]\n",
            " [    26  80000]\n",
            " [    49  28000]\n",
            " [    23  20000]\n",
            " [    32  18000]\n",
            " [    60  42000]\n",
            " [    19  76000]\n",
            " [    36  99000]\n",
            " [    19  26000]\n",
            " [    60  83000]\n",
            " [    24  89000]\n",
            " [    27  58000]\n",
            " [    40  47000]\n",
            " [    42  70000]\n",
            " [    32 150000]\n",
            " [    35  77000]\n",
            " [    22  63000]\n",
            " [    45  22000]\n",
            " [    27  89000]\n",
            " [    18  82000]\n",
            " [    42  79000]\n",
            " [    40  60000]\n",
            " [    53  34000]\n",
            " [    47 107000]\n",
            " [    58 144000]\n",
            " [    59  83000]\n",
            " [    24  55000]\n",
            " [    26  35000]\n",
            " [    58  38000]\n",
            " [    42  80000]\n",
            " [    40  75000]\n",
            " [    59 130000]\n",
            " [    46  41000]\n",
            " [    41  60000]\n",
            " [    42  64000]\n",
            " [    37 146000]\n",
            " [    23  48000]\n",
            " [    25  33000]\n",
            " [    24  84000]\n",
            " [    27  96000]\n",
            " [    23  63000]\n",
            " [    48  33000]\n",
            " [    48  90000]\n",
            " [    42 104000]]\n"
          ],
          "name": "stdout"
        }
      ]
    },
    {
      "cell_type": "code",
      "metadata": {
        "colab": {
          "base_uri": "https://localhost:8080/"
        },
        "id": "kj1hnFAR1s5w",
        "outputId": "7db7e703-8f96-46d7-b738-b28d388fc0e6"
      },
      "source": [
        "print(y_test)"
      ],
      "execution_count": 36,
      "outputs": [
        {
          "output_type": "stream",
          "text": [
            "[0 0 0 0 0 0 0 1 0 0 0 0 0 0 0 0 0 0 1 0 0 1 0 1 0 1 0 0 0 0 0 1 1 0 0 0 0\n",
            " 0 0 1 0 0 0 0 1 0 0 1 0 1 1 0 0 0 1 1 0 0 1 0 0 1 0 1 0 1 0 0 0 0 1 0 0 1\n",
            " 0 0 0 0 1 1 1 0 0 0 1 1 0 1 1 0 0 1 0 0 0 1 0 1 1 1]\n"
          ],
          "name": "stdout"
        }
      ]
    },
    {
      "cell_type": "markdown",
      "metadata": {
        "id": "kW3c7UYih0hT"
      },
      "source": [
        "## Feature Scaling"
      ]
    },
    {
      "cell_type": "code",
      "metadata": {
        "id": "9fQlDPKCh8sc"
      },
      "source": [
        "from sklearn.preprocessing import StandardScaler\n",
        "sc = StandardScaler()\n",
        "X_train = sc.fit_transform(X_train)\n",
        "X_test = sc.transform(X_test)"
      ],
      "execution_count": 37,
      "outputs": []
    },
    {
      "cell_type": "code",
      "metadata": {
        "colab": {
          "base_uri": "https://localhost:8080/"
        },
        "id": "syrnD1Op2BSR",
        "outputId": "54ff5afb-9a24-49b2-8a34-832044545712"
      },
      "source": [
        "print(X_train)"
      ],
      "execution_count": 38,
      "outputs": [
        {
          "output_type": "stream",
          "text": [
            "[[ 0.58164944 -0.88670699]\n",
            " [-0.60673761  1.46173768]\n",
            " [-0.01254409 -0.5677824 ]\n",
            " [-0.60673761  1.89663484]\n",
            " [ 1.37390747 -1.40858358]\n",
            " [ 1.47293972  0.99784738]\n",
            " [ 0.08648817 -0.79972756]\n",
            " [-0.01254409 -0.24885782]\n",
            " [-0.21060859 -0.5677824 ]\n",
            " [-0.21060859 -0.19087153]\n",
            " [-0.30964085 -1.29261101]\n",
            " [-0.30964085 -0.5677824 ]\n",
            " [ 0.38358493  0.09905991]\n",
            " [ 0.8787462  -0.59677555]\n",
            " [ 2.06713324 -1.17663843]\n",
            " [ 1.07681071 -0.13288524]\n",
            " [ 0.68068169  1.78066227]\n",
            " [-0.70576986  0.56295021]\n",
            " [ 0.77971394  0.35999821]\n",
            " [ 0.8787462  -0.53878926]\n",
            " [-1.20093113 -1.58254245]\n",
            " [ 2.1661655   0.93986109]\n",
            " [-0.01254409  1.22979253]\n",
            " [ 0.18552042  1.08482681]\n",
            " [ 0.38358493 -0.48080297]\n",
            " [-0.30964085 -0.30684411]\n",
            " [ 0.97777845 -0.8287207 ]\n",
            " [ 0.97777845  1.8676417 ]\n",
            " [-0.01254409  1.25878567]\n",
            " [-0.90383437  2.27354572]\n",
            " [-1.20093113 -1.58254245]\n",
            " [ 2.1661655  -0.79972756]\n",
            " [-1.39899564 -1.46656987]\n",
            " [ 0.38358493  2.30253886]\n",
            " [ 0.77971394  0.76590222]\n",
            " [-1.00286662 -0.30684411]\n",
            " [ 0.08648817  0.76590222]\n",
            " [-1.00286662  0.56295021]\n",
            " [ 0.28455268  0.07006676]\n",
            " [ 0.68068169 -1.26361786]\n",
            " [-0.50770535 -0.01691267]\n",
            " [-1.79512465  0.35999821]\n",
            " [-0.70576986  0.12805305]\n",
            " [ 0.38358493  0.30201192]\n",
            " [-0.30964085  0.07006676]\n",
            " [-0.50770535  2.30253886]\n",
            " [ 0.18552042  0.04107362]\n",
            " [ 1.27487521  2.21555943]\n",
            " [ 0.77971394  0.27301877]\n",
            " [-0.30964085  0.1570462 ]\n",
            " [-0.01254409 -0.53878926]\n",
            " [-0.21060859  0.1570462 ]\n",
            " [-0.11157634  0.24402563]\n",
            " [-0.01254409 -0.24885782]\n",
            " [ 2.1661655   1.11381995]\n",
            " [-1.79512465  0.35999821]\n",
            " [ 1.86906873  0.12805305]\n",
            " [ 0.38358493 -0.13288524]\n",
            " [-1.20093113  0.30201192]\n",
            " [ 0.77971394  1.37475825]\n",
            " [-0.30964085 -0.24885782]\n",
            " [-1.6960924  -0.04590581]\n",
            " [-1.00286662 -0.74174127]\n",
            " [ 0.28455268  0.50496393]\n",
            " [-0.11157634 -1.06066585]\n",
            " [-1.10189888  0.59194336]\n",
            " [ 0.08648817 -0.79972756]\n",
            " [-1.00286662  1.54871711]\n",
            " [-0.70576986  1.40375139]\n",
            " [-1.29996338  0.50496393]\n",
            " [-0.30964085  0.04107362]\n",
            " [-0.11157634  0.01208048]\n",
            " [-0.30964085 -0.88670699]\n",
            " [ 0.8787462  -1.3505973 ]\n",
            " [-0.30964085  2.24455257]\n",
            " [ 0.97777845  1.98361427]\n",
            " [-1.20093113  0.47597078]\n",
            " [-1.29996338  0.27301877]\n",
            " [ 1.37390747  1.98361427]\n",
            " [ 1.27487521 -1.3505973 ]\n",
            " [-0.30964085 -0.27785096]\n",
            " [-0.50770535  1.25878567]\n",
            " [-0.80480212  1.08482681]\n",
            " [ 0.97777845 -1.06066585]\n",
            " [ 0.28455268  0.30201192]\n",
            " [ 0.97777845  0.76590222]\n",
            " [-0.70576986 -1.49556302]\n",
            " [-0.70576986  0.04107362]\n",
            " [ 0.48261718  1.72267598]\n",
            " [ 2.06713324  0.18603934]\n",
            " [-1.99318916 -0.74174127]\n",
            " [-0.21060859  1.40375139]\n",
            " [ 0.38358493  0.59194336]\n",
            " [ 0.8787462  -1.14764529]\n",
            " [-1.20093113 -0.77073441]\n",
            " [ 0.18552042  0.24402563]\n",
            " [ 0.77971394 -0.30684411]\n",
            " [ 2.06713324 -0.79972756]\n",
            " [ 0.77971394  0.12805305]\n",
            " [-0.30964085  0.6209365 ]\n",
            " [-1.00286662 -0.30684411]\n",
            " [ 0.18552042 -0.3648304 ]\n",
            " [ 2.06713324  2.12857999]\n",
            " [ 1.86906873 -1.26361786]\n",
            " [ 1.37390747 -0.91570013]\n",
            " [ 0.8787462   1.25878567]\n",
            " [ 1.47293972  2.12857999]\n",
            " [-0.30964085 -1.23462472]\n",
            " [ 1.96810099  0.91086794]\n",
            " [ 0.68068169 -0.71274813]\n",
            " [-1.49802789  0.35999821]\n",
            " [ 0.77971394 -1.3505973 ]\n",
            " [ 0.38358493 -0.13288524]\n",
            " [-1.00286662  0.41798449]\n",
            " [-0.01254409 -0.30684411]\n",
            " [-1.20093113  0.41798449]\n",
            " [-0.90383437 -1.20563157]\n",
            " [-0.11157634  0.04107362]\n",
            " [-1.59706014 -0.42281668]\n",
            " [ 0.97777845 -1.00267957]\n",
            " [ 1.07681071 -1.20563157]\n",
            " [-0.01254409 -0.13288524]\n",
            " [-1.10189888 -1.52455616]\n",
            " [ 0.77971394 -1.20563157]\n",
            " [ 0.97777845  2.07059371]\n",
            " [-1.20093113 -1.52455616]\n",
            " [-0.30964085  0.79489537]\n",
            " [ 0.08648817 -0.30684411]\n",
            " [-1.39899564 -1.23462472]\n",
            " [-0.60673761 -1.49556302]\n",
            " [ 0.77971394  0.53395707]\n",
            " [-0.30964085 -0.33583725]\n",
            " [ 1.77003648 -0.27785096]\n",
            " [ 0.8787462  -1.03167271]\n",
            " [ 0.18552042  0.07006676]\n",
            " [-0.60673761  0.8818748 ]\n",
            " [-1.89415691 -1.40858358]\n",
            " [-1.29996338  0.59194336]\n",
            " [-0.30964085  0.53395707]\n",
            " [-1.00286662 -1.089659  ]\n",
            " [ 1.17584296 -1.43757673]\n",
            " [ 0.18552042 -0.30684411]\n",
            " [ 1.17584296 -0.74174127]\n",
            " [-0.30964085  0.07006676]\n",
            " [ 0.18552042  2.09958685]\n",
            " [ 0.77971394 -1.089659  ]\n",
            " [ 0.08648817  0.04107362]\n",
            " [-1.79512465  0.12805305]\n",
            " [-0.90383437  0.1570462 ]\n",
            " [-0.70576986  0.18603934]\n",
            " [ 0.8787462  -1.29261101]\n",
            " [ 0.18552042 -0.24885782]\n",
            " [-0.4086731   1.22979253]\n",
            " [-0.01254409  0.30201192]\n",
            " [ 0.38358493  0.1570462 ]\n",
            " [ 0.8787462  -0.65476184]\n",
            " [ 0.08648817  0.1570462 ]\n",
            " [-1.89415691 -1.29261101]\n",
            " [-0.11157634  0.30201192]\n",
            " [-0.21060859 -0.27785096]\n",
            " [ 0.28455268 -0.50979612]\n",
            " [-0.21060859  1.6067034 ]\n",
            " [ 0.97777845 -1.17663843]\n",
            " [-0.21060859  1.63569655]\n",
            " [ 1.27487521  1.8676417 ]\n",
            " [-1.10189888 -0.3648304 ]\n",
            " [-0.01254409  0.04107362]\n",
            " [ 0.08648817 -0.24885782]\n",
            " [-1.59706014 -1.23462472]\n",
            " [-0.50770535 -0.27785096]\n",
            " [ 0.97777845  0.12805305]\n",
            " [ 1.96810099 -1.3505973 ]\n",
            " [ 1.47293972  0.07006676]\n",
            " [-0.60673761  1.37475825]\n",
            " [ 1.57197197  0.01208048]\n",
            " [-0.80480212  0.30201192]\n",
            " [ 1.96810099  0.73690908]\n",
            " [-1.20093113 -0.50979612]\n",
            " [ 0.68068169  0.27301877]\n",
            " [-1.39899564 -0.42281668]\n",
            " [ 0.18552042  0.1570462 ]\n",
            " [-0.50770535 -1.20563157]\n",
            " [ 0.58164944  2.01260742]\n",
            " [-1.59706014 -1.49556302]\n",
            " [-0.50770535 -0.53878926]\n",
            " [ 0.48261718  1.83864855]\n",
            " [-1.39899564 -1.089659  ]\n",
            " [ 0.77971394 -1.37959044]\n",
            " [-0.30964085 -0.42281668]\n",
            " [ 1.57197197  0.99784738]\n",
            " [ 0.97777845  1.43274454]\n",
            " [-0.30964085 -0.48080297]\n",
            " [-0.11157634  2.15757314]\n",
            " [-1.49802789 -0.1038921 ]\n",
            " [-0.11157634  1.95462113]\n",
            " [-0.70576986 -0.33583725]\n",
            " [-0.50770535 -0.8287207 ]\n",
            " [ 0.68068169 -1.37959044]\n",
            " [-0.80480212 -1.58254245]\n",
            " [-1.89415691 -1.46656987]\n",
            " [ 1.07681071  0.12805305]\n",
            " [ 0.08648817  1.51972397]\n",
            " [-0.30964085  0.09905991]\n",
            " [ 0.08648817  0.04107362]\n",
            " [-1.39899564 -1.3505973 ]\n",
            " [ 0.28455268  0.07006676]\n",
            " [-0.90383437  0.38899135]\n",
            " [ 1.57197197 -1.26361786]\n",
            " [-0.30964085 -0.74174127]\n",
            " [-0.11157634  0.1570462 ]\n",
            " [-0.90383437 -0.65476184]\n",
            " [-0.70576986 -0.04590581]\n",
            " [ 0.38358493 -0.45180983]\n",
            " [-0.80480212  1.89663484]\n",
            " [ 1.37390747  1.28777882]\n",
            " [ 1.17584296 -0.97368642]\n",
            " [ 1.77003648  1.83864855]\n",
            " [-0.90383437 -0.24885782]\n",
            " [-0.80480212  0.56295021]\n",
            " [-1.20093113 -1.5535493 ]\n",
            " [-0.50770535 -1.11865214]\n",
            " [ 0.28455268  0.07006676]\n",
            " [-0.21060859 -1.06066585]\n",
            " [ 1.67100423  1.6067034 ]\n",
            " [ 0.97777845  1.78066227]\n",
            " [ 0.28455268  0.04107362]\n",
            " [-0.80480212 -0.21986468]\n",
            " [-0.11157634  0.07006676]\n",
            " [ 0.28455268 -0.19087153]\n",
            " [ 1.96810099 -0.65476184]\n",
            " [-0.80480212  1.3457651 ]\n",
            " [-1.79512465 -0.59677555]\n",
            " [-0.11157634  0.12805305]\n",
            " [ 0.28455268 -0.30684411]\n",
            " [ 1.07681071  0.56295021]\n",
            " [-1.00286662  0.27301877]\n",
            " [ 1.47293972  0.35999821]\n",
            " [ 0.18552042 -0.3648304 ]\n",
            " [ 2.1661655  -1.03167271]\n",
            " [-0.30964085  1.11381995]\n",
            " [-1.6960924   0.07006676]\n",
            " [-0.01254409  0.04107362]\n",
            " [ 0.08648817  1.05583366]\n",
            " [-0.11157634 -0.3648304 ]\n",
            " [-1.20093113  0.07006676]\n",
            " [-0.30964085 -1.3505973 ]\n",
            " [ 1.57197197  1.11381995]\n",
            " [-0.80480212 -1.52455616]\n",
            " [ 0.08648817  1.8676417 ]\n",
            " [-0.90383437 -0.77073441]\n",
            " [-0.50770535 -0.77073441]\n",
            " [-0.30964085 -0.91570013]\n",
            " [ 0.28455268 -0.71274813]\n",
            " [ 0.28455268  0.07006676]\n",
            " [ 0.08648817  1.8676417 ]\n",
            " [-1.10189888  1.95462113]\n",
            " [-1.6960924  -1.5535493 ]\n",
            " [-1.20093113 -1.089659  ]\n",
            " [-0.70576986 -0.1038921 ]\n",
            " [ 0.08648817  0.09905991]\n",
            " [ 0.28455268  0.27301877]\n",
            " [ 0.8787462  -0.5677824 ]\n",
            " [ 0.28455268 -1.14764529]\n",
            " [-0.11157634  0.67892279]\n",
            " [ 2.1661655  -0.68375498]\n",
            " [-1.29996338 -1.37959044]\n",
            " [-1.00286662 -0.94469328]\n",
            " [-0.01254409 -0.42281668]\n",
            " [-0.21060859 -0.45180983]\n",
            " [-1.79512465 -0.97368642]\n",
            " [ 1.77003648  0.99784738]\n",
            " [ 0.18552042 -0.3648304 ]\n",
            " [ 0.38358493  1.11381995]\n",
            " [-1.79512465 -1.3505973 ]\n",
            " [ 0.18552042 -0.13288524]\n",
            " [ 0.8787462  -1.43757673]\n",
            " [-1.99318916  0.47597078]\n",
            " [-0.30964085  0.27301877]\n",
            " [ 1.86906873 -1.06066585]\n",
            " [-0.4086731   0.07006676]\n",
            " [ 1.07681071 -0.88670699]\n",
            " [-1.10189888 -1.11865214]\n",
            " [-1.89415691  0.01208048]\n",
            " [ 0.08648817  0.27301877]\n",
            " [-1.20093113  0.33100506]\n",
            " [-1.29996338  0.30201192]\n",
            " [-1.00286662  0.44697764]\n",
            " [ 1.67100423 -0.88670699]\n",
            " [ 1.17584296  0.53395707]\n",
            " [ 1.07681071  0.53395707]\n",
            " [ 1.37390747  2.331532  ]\n",
            " [-0.30964085 -0.13288524]\n",
            " [ 0.38358493 -0.45180983]\n",
            " [-0.4086731  -0.77073441]\n",
            " [-0.11157634 -0.50979612]\n",
            " [ 0.97777845 -1.14764529]\n",
            " [-0.90383437 -0.77073441]\n",
            " [-0.21060859 -0.50979612]\n",
            " [-1.10189888 -0.45180983]\n",
            " [-1.20093113  1.40375139]]\n"
          ],
          "name": "stdout"
        }
      ]
    },
    {
      "cell_type": "code",
      "metadata": {
        "colab": {
          "base_uri": "https://localhost:8080/"
        },
        "id": "JUd6iBRp2C3L",
        "outputId": "df79985d-45e3-403d-aace-72818852d09d"
      },
      "source": [
        "print(X_test)"
      ],
      "execution_count": 39,
      "outputs": [
        {
          "output_type": "stream",
          "text": [
            "[[-0.80480212  0.50496393]\n",
            " [-0.01254409 -0.5677824 ]\n",
            " [-0.30964085  0.1570462 ]\n",
            " [-0.80480212  0.27301877]\n",
            " [-0.30964085 -0.5677824 ]\n",
            " [-1.10189888 -1.43757673]\n",
            " [-0.70576986 -1.58254245]\n",
            " [-0.21060859  2.15757314]\n",
            " [-1.99318916 -0.04590581]\n",
            " [ 0.8787462  -0.77073441]\n",
            " [-0.80480212 -0.59677555]\n",
            " [-1.00286662 -0.42281668]\n",
            " [-0.11157634 -0.42281668]\n",
            " [ 0.08648817  0.21503249]\n",
            " [-1.79512465  0.47597078]\n",
            " [-0.60673761  1.37475825]\n",
            " [-0.11157634  0.21503249]\n",
            " [-1.89415691  0.44697764]\n",
            " [ 1.67100423  1.75166912]\n",
            " [-0.30964085 -1.37959044]\n",
            " [-0.30964085 -0.65476184]\n",
            " [ 0.8787462   2.15757314]\n",
            " [ 0.28455268 -0.53878926]\n",
            " [ 0.8787462   1.02684052]\n",
            " [-1.49802789 -1.20563157]\n",
            " [ 1.07681071  2.07059371]\n",
            " [-1.00286662  0.50496393]\n",
            " [-0.90383437  0.30201192]\n",
            " [-0.11157634 -0.21986468]\n",
            " [-0.60673761  0.47597078]\n",
            " [-1.6960924   0.53395707]\n",
            " [-0.11157634  0.27301877]\n",
            " [ 1.86906873 -0.27785096]\n",
            " [-0.11157634 -0.48080297]\n",
            " [-1.39899564 -0.33583725]\n",
            " [-1.99318916 -0.50979612]\n",
            " [-1.59706014  0.33100506]\n",
            " [-0.4086731  -0.77073441]\n",
            " [-0.70576986 -1.03167271]\n",
            " [ 1.07681071 -0.97368642]\n",
            " [-1.10189888  0.53395707]\n",
            " [ 0.28455268 -0.50979612]\n",
            " [-1.10189888  0.41798449]\n",
            " [-0.30964085 -1.43757673]\n",
            " [ 0.48261718  1.22979253]\n",
            " [-1.10189888 -0.33583725]\n",
            " [-0.11157634  0.30201192]\n",
            " [ 1.37390747  0.59194336]\n",
            " [-1.20093113 -1.14764529]\n",
            " [ 1.07681071  0.47597078]\n",
            " [ 1.86906873  1.51972397]\n",
            " [-0.4086731  -1.29261101]\n",
            " [-0.30964085 -0.3648304 ]\n",
            " [-0.4086731   1.31677196]\n",
            " [ 2.06713324  0.53395707]\n",
            " [ 0.68068169 -1.089659  ]\n",
            " [-0.90383437  0.38899135]\n",
            " [-1.20093113  0.30201192]\n",
            " [ 1.07681071 -1.20563157]\n",
            " [-1.49802789 -1.43757673]\n",
            " [-0.60673761 -1.49556302]\n",
            " [ 2.1661655  -0.79972756]\n",
            " [-1.89415691  0.18603934]\n",
            " [-0.21060859  0.85288166]\n",
            " [-1.89415691 -1.26361786]\n",
            " [ 2.1661655   0.38899135]\n",
            " [-1.39899564  0.56295021]\n",
            " [-1.10189888 -0.33583725]\n",
            " [ 0.18552042 -0.65476184]\n",
            " [ 0.38358493  0.01208048]\n",
            " [-0.60673761  2.331532  ]\n",
            " [-0.30964085  0.21503249]\n",
            " [-1.59706014 -0.19087153]\n",
            " [ 0.68068169 -1.37959044]\n",
            " [-1.10189888  0.56295021]\n",
            " [-1.99318916  0.35999821]\n",
            " [ 0.38358493  0.27301877]\n",
            " [ 0.18552042 -0.27785096]\n",
            " [ 1.47293972 -1.03167271]\n",
            " [ 0.8787462   1.08482681]\n",
            " [ 1.96810099  2.15757314]\n",
            " [ 2.06713324  0.38899135]\n",
            " [-1.39899564 -0.42281668]\n",
            " [-1.20093113 -1.00267957]\n",
            " [ 1.96810099 -0.91570013]\n",
            " [ 0.38358493  0.30201192]\n",
            " [ 0.18552042  0.1570462 ]\n",
            " [ 2.06713324  1.75166912]\n",
            " [ 0.77971394 -0.8287207 ]\n",
            " [ 0.28455268 -0.27785096]\n",
            " [ 0.38358493 -0.16187839]\n",
            " [-0.11157634  2.21555943]\n",
            " [-1.49802789 -0.62576869]\n",
            " [-1.29996338 -1.06066585]\n",
            " [-1.39899564  0.41798449]\n",
            " [-1.10189888  0.76590222]\n",
            " [-1.49802789 -0.19087153]\n",
            " [ 0.97777845 -1.06066585]\n",
            " [ 0.97777845  0.59194336]\n",
            " [ 0.38358493  0.99784738]]\n"
          ],
          "name": "stdout"
        }
      ]
    },
    {
      "cell_type": "markdown",
      "metadata": {
        "id": "bb6jCOCQiAmP"
      },
      "source": [
        "## Training the Kernel SVM model on the Training set"
      ]
    },
    {
      "cell_type": "code",
      "metadata": {
        "colab": {
          "base_uri": "https://localhost:8080/"
        },
        "id": "e0pFVAmciHQs",
        "outputId": "2a8d1169-e756-4172-9ad7-4459b1e6d3cb"
      },
      "source": [
        "from sklearn.svm import SVC\n",
        "classifier = SVC(kernel = 'rbf', random_state = 0)\n",
        "classifier.fit(X_train, y_train)"
      ],
      "execution_count": 40,
      "outputs": [
        {
          "output_type": "execute_result",
          "data": {
            "text/plain": [
              "SVC(C=1.0, break_ties=False, cache_size=200, class_weight=None, coef0=0.0,\n",
              "    decision_function_shape='ovr', degree=3, gamma='scale', kernel='rbf',\n",
              "    max_iter=-1, probability=False, random_state=0, shrinking=True, tol=0.001,\n",
              "    verbose=False)"
            ]
          },
          "metadata": {
            "tags": []
          },
          "execution_count": 40
        }
      ]
    },
    {
      "cell_type": "markdown",
      "metadata": {
        "id": "yyxW5b395mR2"
      },
      "source": [
        "## Predicting a new result"
      ]
    },
    {
      "cell_type": "code",
      "metadata": {
        "colab": {
          "base_uri": "https://localhost:8080/"
        },
        "id": "f8YOXsQy58rP",
        "outputId": "e956b1e8-f38c-4ff9-ab39-3b15167c4f21"
      },
      "source": [
        "print(classifier.predict(sc.transform([[30,87000]])))"
      ],
      "execution_count": 41,
      "outputs": [
        {
          "output_type": "stream",
          "text": [
            "[0]\n"
          ],
          "name": "stdout"
        }
      ]
    },
    {
      "cell_type": "markdown",
      "metadata": {
        "id": "vKYVQH-l5NpE"
      },
      "source": [
        "## Predicting the Test set results"
      ]
    },
    {
      "cell_type": "code",
      "metadata": {
        "colab": {
          "base_uri": "https://localhost:8080/"
        },
        "id": "p6VMTb2O4hwM",
        "outputId": "c50350cc-dccc-4129-d743-b2d7119aa72d"
      },
      "source": [
        "y_pred = classifier.predict(X_test)\n",
        "print(np.concatenate((y_pred.reshape(len(y_pred),1), y_test.reshape(len(y_test),1)),1))"
      ],
      "execution_count": 42,
      "outputs": [
        {
          "output_type": "stream",
          "text": [
            "[[0 0]\n",
            " [0 0]\n",
            " [0 0]\n",
            " [0 0]\n",
            " [0 0]\n",
            " [0 0]\n",
            " [0 0]\n",
            " [1 1]\n",
            " [0 0]\n",
            " [1 0]\n",
            " [0 0]\n",
            " [0 0]\n",
            " [0 0]\n",
            " [0 0]\n",
            " [0 0]\n",
            " [1 0]\n",
            " [0 0]\n",
            " [0 0]\n",
            " [1 1]\n",
            " [0 0]\n",
            " [0 0]\n",
            " [1 1]\n",
            " [0 0]\n",
            " [1 1]\n",
            " [0 0]\n",
            " [1 1]\n",
            " [0 0]\n",
            " [0 0]\n",
            " [0 0]\n",
            " [0 0]\n",
            " [0 0]\n",
            " [0 1]\n",
            " [1 1]\n",
            " [0 0]\n",
            " [0 0]\n",
            " [0 0]\n",
            " [0 0]\n",
            " [0 0]\n",
            " [0 0]\n",
            " [1 1]\n",
            " [0 0]\n",
            " [0 0]\n",
            " [0 0]\n",
            " [0 0]\n",
            " [1 1]\n",
            " [0 0]\n",
            " [0 0]\n",
            " [1 1]\n",
            " [0 0]\n",
            " [1 1]\n",
            " [1 1]\n",
            " [0 0]\n",
            " [0 0]\n",
            " [1 0]\n",
            " [1 1]\n",
            " [1 1]\n",
            " [0 0]\n",
            " [0 0]\n",
            " [1 1]\n",
            " [0 0]\n",
            " [0 0]\n",
            " [1 1]\n",
            " [0 0]\n",
            " [1 1]\n",
            " [0 0]\n",
            " [1 1]\n",
            " [0 0]\n",
            " [0 0]\n",
            " [0 0]\n",
            " [0 0]\n",
            " [1 1]\n",
            " [0 0]\n",
            " [0 0]\n",
            " [1 1]\n",
            " [0 0]\n",
            " [0 0]\n",
            " [0 0]\n",
            " [0 0]\n",
            " [1 1]\n",
            " [1 1]\n",
            " [1 1]\n",
            " [1 0]\n",
            " [0 0]\n",
            " [0 0]\n",
            " [1 1]\n",
            " [0 1]\n",
            " [0 0]\n",
            " [1 1]\n",
            " [1 1]\n",
            " [0 0]\n",
            " [0 0]\n",
            " [1 1]\n",
            " [0 0]\n",
            " [0 0]\n",
            " [0 0]\n",
            " [0 1]\n",
            " [0 0]\n",
            " [1 1]\n",
            " [1 1]\n",
            " [1 1]]\n"
          ],
          "name": "stdout"
        }
      ]
    },
    {
      "cell_type": "markdown",
      "metadata": {
        "id": "h4Hwj34ziWQW"
      },
      "source": [
        "## Making the Confusion Matrix"
      ]
    },
    {
      "cell_type": "code",
      "metadata": {
        "colab": {
          "base_uri": "https://localhost:8080/"
        },
        "id": "D6bpZwUiiXic",
        "outputId": "ea32c3f9-2281-4006-a6da-e1a8063914b2"
      },
      "source": [
        "from sklearn.metrics import confusion_matrix, accuracy_score\n",
        "cm = confusion_matrix(y_test, y_pred)\n",
        "print(cm)\n",
        "accuracy_score(y_test, y_pred)"
      ],
      "execution_count": 43,
      "outputs": [
        {
          "output_type": "stream",
          "text": [
            "[[64  4]\n",
            " [ 3 29]]\n"
          ],
          "name": "stdout"
        },
        {
          "output_type": "execute_result",
          "data": {
            "text/plain": [
              "0.93"
            ]
          },
          "metadata": {
            "tags": []
          },
          "execution_count": 43
        }
      ]
    },
    {
      "cell_type": "markdown",
      "metadata": {
        "id": "6OMC_P0diaoD"
      },
      "source": [
        "## Visualising the Training set results"
      ]
    },
    {
      "cell_type": "code",
      "metadata": {
        "id": "_NOjKvZRid5l"
      },
      "source": [
        "from matplotlib.colors import ListedColormap\n",
        "X_set, y_set = sc.inverse_transform(X_train), y_train\n",
        "X1, X2 = np.meshgrid(np.arange(start = X_set[:, 0].min() - 10, stop = X_set[:, 0].max() + 10, step = 0.25),\n",
        "                     np.arange(start = X_set[:, 1].min() - 1000, stop = X_set[:, 1].max() + 1000, step = 0.25))\n",
        "plt.contourf(X1, X2, classifier.predict(sc.transform(np.array([X1.ravel(), X2.ravel()]).T)).reshape(X1.shape),\n",
        "             alpha = 0.75, cmap = ListedColormap(('red', 'green')))\n",
        "plt.xlim(X1.min(), X1.max())\n",
        "plt.ylim(X2.min(), X2.max())\n",
        "for i, j in enumerate(np.unique(y_set)):\n",
        "    plt.scatter(X_set[y_set == j, 0], X_set[y_set == j, 1], c = ListedColormap(('red', 'green'))(i), label = j)\n",
        "plt.title('Kernel SVM (Training set)')\n",
        "plt.xlabel('Age')\n",
        "plt.ylabel('Estimated Salary')\n",
        "plt.legend()\n",
        "plt.show()"
      ],
      "execution_count": null,
      "outputs": []
    },
    {
      "cell_type": "markdown",
      "metadata": {
        "id": "SZ-j28aPihZx"
      },
      "source": [
        "## Visualising the Test set results"
      ]
    },
    {
      "cell_type": "code",
      "metadata": {
        "colab": {
          "background_save": true
        },
        "id": "qeTjz2vDilAC"
      },
      "source": [
        "from matplotlib.colors import ListedColormap\n",
        "X_set, y_set = sc.inverse_transform(X_test), y_test\n",
        "X1, X2 = np.meshgrid(np.arange(start = X_set[:, 0].min() - 10, stop = X_set[:, 0].max() + 10, step = 0.25),\n",
        "                     np.arange(start = X_set[:, 1].min() - 1000, stop = X_set[:, 1].max() + 1000, step = 0.25))\n",
        "plt.contourf(X1, X2, classifier.predict(sc.transform(np.array([X1.ravel(), X2.ravel()]).T)).reshape(X1.shape),\n",
        "             alpha = 0.75, cmap = ListedColormap(('red', 'green')))\n",
        "plt.xlim(X1.min(), X1.max())\n",
        "plt.ylim(X2.min(), X2.max())\n",
        "for i, j in enumerate(np.unique(y_set)):\n",
        "    plt.scatter(X_set[y_set == j, 0], X_set[y_set == j, 1], c = ListedColormap(('red', 'green'))(i), label = j)\n",
        "plt.title('Kernel SVM (Test set)')\n",
        "plt.xlabel('Age')\n",
        "plt.ylabel('Estimated Salary')\n",
        "plt.legend()\n",
        "plt.show()"
      ],
      "execution_count": null,
      "outputs": []
    }
  ]
}